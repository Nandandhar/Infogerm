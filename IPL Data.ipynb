{
 "cells": [
  {
   "cell_type": "code",
   "execution_count": 1,
   "id": "57c1d752-ef6f-48bb-9a93-cac48b88c458",
   "metadata": {},
   "outputs": [],
   "source": [
    "#IPL Data"
   ]
  },
  {
   "cell_type": "code",
   "execution_count": 4,
   "id": "6bcd612f-e399-4d1b-a2af-526f2385bd18",
   "metadata": {},
   "outputs": [],
   "source": [
    "import pandas as pd\n",
    "from matplotlib import pyplot as plt\n",
    "import seaborn as sns"
   ]
  },
  {
   "cell_type": "code",
   "execution_count": 7,
   "id": "69625292-6e3a-48cc-8680-873839e8680e",
   "metadata": {},
   "outputs": [
    {
     "data": {
      "text/html": [
       "<div>\n",
       "<style scoped>\n",
       "    .dataframe tbody tr th:only-of-type {\n",
       "        vertical-align: middle;\n",
       "    }\n",
       "\n",
       "    .dataframe tbody tr th {\n",
       "        vertical-align: top;\n",
       "    }\n",
       "\n",
       "    .dataframe thead th {\n",
       "        text-align: right;\n",
       "    }\n",
       "</style>\n",
       "<table border=\"1\" class=\"dataframe\">\n",
       "  <thead>\n",
       "    <tr style=\"text-align: right;\">\n",
       "      <th></th>\n",
       "      <th>ID</th>\n",
       "      <th>City</th>\n",
       "      <th>Date</th>\n",
       "      <th>Season</th>\n",
       "      <th>MatchNumber</th>\n",
       "      <th>Team1</th>\n",
       "      <th>Team2</th>\n",
       "      <th>Venue</th>\n",
       "      <th>TossWinner</th>\n",
       "      <th>TossDecision</th>\n",
       "      <th>SuperOver</th>\n",
       "      <th>WinningTeam</th>\n",
       "      <th>WonBy</th>\n",
       "      <th>Margin</th>\n",
       "      <th>method</th>\n",
       "      <th>Player_of_Match</th>\n",
       "      <th>Team1Players</th>\n",
       "      <th>Team2Players</th>\n",
       "      <th>Umpire1</th>\n",
       "      <th>Umpire2</th>\n",
       "    </tr>\n",
       "  </thead>\n",
       "  <tbody>\n",
       "    <tr>\n",
       "      <th>0</th>\n",
       "      <td>1</td>\n",
       "      <td>Bangalore</td>\n",
       "      <td>18-04-2008</td>\n",
       "      <td>2007/08</td>\n",
       "      <td>1</td>\n",
       "      <td>Royal Challengers Bangalore</td>\n",
       "      <td>Kolkata Knight Riders</td>\n",
       "      <td>M Chinnaswamy Stadium</td>\n",
       "      <td>Royal Challengers Bangalore</td>\n",
       "      <td>field</td>\n",
       "      <td>N</td>\n",
       "      <td>Kolkata Knight Riders</td>\n",
       "      <td>Runs</td>\n",
       "      <td>140.0</td>\n",
       "      <td>NaN</td>\n",
       "      <td>BB McCullum</td>\n",
       "      <td>['R Dravid', 'W Jaffer', 'V Kohli', 'JH Kallis...</td>\n",
       "      <td>['SC Ganguly', 'BB McCullum', 'RT Ponting', 'D...</td>\n",
       "      <td>Asad Rauf</td>\n",
       "      <td>RE Koertzen</td>\n",
       "    </tr>\n",
       "    <tr>\n",
       "      <th>1</th>\n",
       "      <td>2</td>\n",
       "      <td>Delhi</td>\n",
       "      <td>19-04-2008</td>\n",
       "      <td>2007/08</td>\n",
       "      <td>3</td>\n",
       "      <td>Delhi Daredevils</td>\n",
       "      <td>Rajasthan Royals</td>\n",
       "      <td>Feroz Shah Kotla</td>\n",
       "      <td>Rajasthan Royals</td>\n",
       "      <td>bat</td>\n",
       "      <td>N</td>\n",
       "      <td>Delhi Daredevils</td>\n",
       "      <td>Wickets</td>\n",
       "      <td>9.0</td>\n",
       "      <td>NaN</td>\n",
       "      <td>MF Maharoof</td>\n",
       "      <td>['G Gambhir', 'V Sehwag', 'S Dhawan', 'MK Tiwa...</td>\n",
       "      <td>['T Kohli', 'YK Pathan', 'SR Watson', 'M Kaif'...</td>\n",
       "      <td>Aleem Dar</td>\n",
       "      <td>GA Pratapkumar</td>\n",
       "    </tr>\n",
       "    <tr>\n",
       "      <th>2</th>\n",
       "      <td>3</td>\n",
       "      <td>Chandigarh</td>\n",
       "      <td>19-04-2008</td>\n",
       "      <td>2007/08</td>\n",
       "      <td>2</td>\n",
       "      <td>Kings XI Punjab</td>\n",
       "      <td>Chennai Super Kings</td>\n",
       "      <td>Punjab Cricket Association Stadium, Mohali</td>\n",
       "      <td>Chennai Super Kings</td>\n",
       "      <td>bat</td>\n",
       "      <td>N</td>\n",
       "      <td>Chennai Super Kings</td>\n",
       "      <td>Runs</td>\n",
       "      <td>33.0</td>\n",
       "      <td>NaN</td>\n",
       "      <td>MEK Hussey</td>\n",
       "      <td>['K Goel', 'JR Hopes', 'KC Sangakkara', 'Yuvra...</td>\n",
       "      <td>['PA Patel', 'ML Hayden', 'MEK Hussey', 'MS Dh...</td>\n",
       "      <td>MR Benson</td>\n",
       "      <td>SL Shastri</td>\n",
       "    </tr>\n",
       "    <tr>\n",
       "      <th>3</th>\n",
       "      <td>4</td>\n",
       "      <td>Kolkata</td>\n",
       "      <td>20-04-2008</td>\n",
       "      <td>2007/08</td>\n",
       "      <td>4</td>\n",
       "      <td>Kolkata Knight Riders</td>\n",
       "      <td>Deccan Chargers</td>\n",
       "      <td>Eden Gardens</td>\n",
       "      <td>Deccan Chargers</td>\n",
       "      <td>bat</td>\n",
       "      <td>N</td>\n",
       "      <td>Kolkata Knight Riders</td>\n",
       "      <td>Wickets</td>\n",
       "      <td>5.0</td>\n",
       "      <td>NaN</td>\n",
       "      <td>DJ Hussey</td>\n",
       "      <td>['WP Saha', 'BB McCullum', 'RT Ponting', 'SC G...</td>\n",
       "      <td>['AC Gilchrist', 'Y Venugopal Rao', 'VVS Laxma...</td>\n",
       "      <td>BF Bowden</td>\n",
       "      <td>K Hariharan</td>\n",
       "    </tr>\n",
       "    <tr>\n",
       "      <th>4</th>\n",
       "      <td>5</td>\n",
       "      <td>Mumbai</td>\n",
       "      <td>20-04-2008</td>\n",
       "      <td>2007/08</td>\n",
       "      <td>5</td>\n",
       "      <td>Mumbai Indians</td>\n",
       "      <td>Royal Challengers Bangalore</td>\n",
       "      <td>Wankhede Stadium</td>\n",
       "      <td>Mumbai Indians</td>\n",
       "      <td>bat</td>\n",
       "      <td>N</td>\n",
       "      <td>Royal Challengers Bangalore</td>\n",
       "      <td>Wickets</td>\n",
       "      <td>5.0</td>\n",
       "      <td>NaN</td>\n",
       "      <td>MV Boucher</td>\n",
       "      <td>['L Ronchi', 'ST Jayasuriya', 'DJ Thornely', '...</td>\n",
       "      <td>['S Chanderpaul', 'R Dravid', 'LRPL Taylor', '...</td>\n",
       "      <td>SJ Davis</td>\n",
       "      <td>DJ Harper</td>\n",
       "    </tr>\n",
       "  </tbody>\n",
       "</table>\n",
       "</div>"
      ],
      "text/plain": [
       "   ID        City        Date   Season MatchNumber  \\\n",
       "0   1   Bangalore  18-04-2008  2007/08           1   \n",
       "1   2       Delhi  19-04-2008  2007/08           3   \n",
       "2   3  Chandigarh  19-04-2008  2007/08           2   \n",
       "3   4     Kolkata  20-04-2008  2007/08           4   \n",
       "4   5      Mumbai  20-04-2008  2007/08           5   \n",
       "\n",
       "                         Team1                        Team2  \\\n",
       "0  Royal Challengers Bangalore        Kolkata Knight Riders   \n",
       "1             Delhi Daredevils             Rajasthan Royals   \n",
       "2              Kings XI Punjab          Chennai Super Kings   \n",
       "3        Kolkata Knight Riders              Deccan Chargers   \n",
       "4               Mumbai Indians  Royal Challengers Bangalore   \n",
       "\n",
       "                                        Venue                   TossWinner  \\\n",
       "0                       M Chinnaswamy Stadium  Royal Challengers Bangalore   \n",
       "1                            Feroz Shah Kotla             Rajasthan Royals   \n",
       "2  Punjab Cricket Association Stadium, Mohali          Chennai Super Kings   \n",
       "3                                Eden Gardens              Deccan Chargers   \n",
       "4                            Wankhede Stadium               Mumbai Indians   \n",
       "\n",
       "  TossDecision SuperOver                  WinningTeam    WonBy  Margin method  \\\n",
       "0        field         N        Kolkata Knight Riders     Runs   140.0    NaN   \n",
       "1          bat         N             Delhi Daredevils  Wickets     9.0    NaN   \n",
       "2          bat         N          Chennai Super Kings     Runs    33.0    NaN   \n",
       "3          bat         N        Kolkata Knight Riders  Wickets     5.0    NaN   \n",
       "4          bat         N  Royal Challengers Bangalore  Wickets     5.0    NaN   \n",
       "\n",
       "  Player_of_Match                                       Team1Players  \\\n",
       "0     BB McCullum  ['R Dravid', 'W Jaffer', 'V Kohli', 'JH Kallis...   \n",
       "1     MF Maharoof  ['G Gambhir', 'V Sehwag', 'S Dhawan', 'MK Tiwa...   \n",
       "2      MEK Hussey  ['K Goel', 'JR Hopes', 'KC Sangakkara', 'Yuvra...   \n",
       "3       DJ Hussey  ['WP Saha', 'BB McCullum', 'RT Ponting', 'SC G...   \n",
       "4      MV Boucher  ['L Ronchi', 'ST Jayasuriya', 'DJ Thornely', '...   \n",
       "\n",
       "                                        Team2Players    Umpire1  \\\n",
       "0  ['SC Ganguly', 'BB McCullum', 'RT Ponting', 'D...  Asad Rauf   \n",
       "1  ['T Kohli', 'YK Pathan', 'SR Watson', 'M Kaif'...  Aleem Dar   \n",
       "2  ['PA Patel', 'ML Hayden', 'MEK Hussey', 'MS Dh...  MR Benson   \n",
       "3  ['AC Gilchrist', 'Y Venugopal Rao', 'VVS Laxma...  BF Bowden   \n",
       "4  ['S Chanderpaul', 'R Dravid', 'LRPL Taylor', '...   SJ Davis   \n",
       "\n",
       "          Umpire2  \n",
       "0     RE Koertzen  \n",
       "1  GA Pratapkumar  \n",
       "2      SL Shastri  \n",
       "3     K Hariharan  \n",
       "4       DJ Harper  "
      ]
     },
     "execution_count": 7,
     "metadata": {},
     "output_type": "execute_result"
    }
   ],
   "source": [
    "ipl=pd.read_csv(r\"D:\\NANDAN's Documents\\Infogerm int\\IPL Data.csv\")\n",
    "ipl.head()"
   ]
  },
  {
   "cell_type": "code",
   "execution_count": 10,
   "id": "b18a873d-320f-4063-bb57-c1016dad6268",
   "metadata": {},
   "outputs": [
    {
     "data": {
      "text/plain": [
       "(950, 20)"
      ]
     },
     "execution_count": 10,
     "metadata": {},
     "output_type": "execute_result"
    }
   ],
   "source": [
    "ipl.shape"
   ]
  },
  {
   "cell_type": "code",
   "execution_count": 15,
   "id": "52948542-7507-4fac-9df1-b77ed27e0b1f",
   "metadata": {},
   "outputs": [
    {
     "data": {
      "text/plain": [
       "Player_of_Match\n",
       "AB de Villiers       25\n",
       "CH Gayle             22\n",
       "RG Sharma            18\n",
       "DA Warner            18\n",
       "MS Dhoni             17\n",
       "                     ..\n",
       "AC Voges              1\n",
       "Mustafizur Rahman     1\n",
       "NV Ojha               1\n",
       "PD Collingwood        1\n",
       "RM Patidar            1\n",
       "Name: count, Length: 262, dtype: int64"
      ]
     },
     "execution_count": 15,
     "metadata": {},
     "output_type": "execute_result"
    }
   ],
   "source": [
    "ipl['Player_of_Match'].value_counts()"
   ]
  },
  {
   "cell_type": "code",
   "execution_count": 18,
   "id": "5fd08445-90bc-4cf4-8284-a6b3bfe1c306",
   "metadata": {},
   "outputs": [
    {
     "data": {
      "text/plain": [
       "Player_of_Match\n",
       "AB de Villiers    25\n",
       "CH Gayle          22\n",
       "RG Sharma         18\n",
       "DA Warner         18\n",
       "MS Dhoni          17\n",
       "SR Watson         16\n",
       "YK Pathan         16\n",
       "KA Pollard        14\n",
       "V Kohli           14\n",
       "SK Raina          14\n",
       "Name: count, dtype: int64"
      ]
     },
     "execution_count": 18,
     "metadata": {},
     "output_type": "execute_result"
    }
   ],
   "source": [
    "ipl['Player_of_Match'].value_counts()[0:10]"
   ]
  },
  {
   "cell_type": "code",
   "execution_count": 22,
   "id": "97047e36-1c2f-4d68-bec0-b10376a61df8",
   "metadata": {},
   "outputs": [
    {
     "data": {
      "text/plain": [
       "['AB de Villiers',\n",
       " 'CH Gayle',\n",
       " 'RG Sharma',\n",
       " 'DA Warner',\n",
       " 'MS Dhoni',\n",
       " 'SR Watson',\n",
       " 'YK Pathan',\n",
       " 'KA Pollard',\n",
       " 'V Kohli',\n",
       " 'SK Raina']"
      ]
     },
     "execution_count": 22,
     "metadata": {},
     "output_type": "execute_result"
    }
   ],
   "source": [
    "list(ipl['Player_of_Match'].value_counts()[0:10].keys())"
   ]
  },
  {
   "cell_type": "code",
   "execution_count": 25,
   "id": "5d44a894-fca0-4a6d-8642-6314314b4d2b",
   "metadata": {},
   "outputs": [
    {
     "data": {
      "image/png": "[encoded data removed]",
      "text/plain": [
       "<Figure size 1200x600 with 1 Axes>"
      ]
     },
     "metadata": {},
     "output_type": "display_data"
    }
   ],
   "source": [
    "plt.figure(figsize=(12,6))\n",
    "plt.bar(list(ipl['Player_of_Match'].value_counts()[0:10].keys()),list(ipl['Player_of_Match'].value_counts()[0:10]),color='black')\n",
    "plt.show()"
   ]
  },
  {
   "cell_type": "code",
   "execution_count": 28,
   "id": "6989e31e-8a6d-4e03-9fd3-544cffd1084a",
   "metadata": {},
   "outputs": [
    {
     "data": {
      "text/plain": [
       "Player_of_Match\n",
       "AB de Villiers       25\n",
       "CH Gayle             22\n",
       "RG Sharma            18\n",
       "DA Warner            18\n",
       "MS Dhoni             17\n",
       "                     ..\n",
       "AC Voges              1\n",
       "Mustafizur Rahman     1\n",
       "NV Ojha               1\n",
       "PD Collingwood        1\n",
       "RM Patidar            1\n",
       "Name: count, Length: 262, dtype: int64"
      ]
     },
     "execution_count": 28,
     "metadata": {},
     "output_type": "execute_result"
    }
   ],
   "source": [
    "ipl['Player_of_Match'].value_counts()"
   ]
  },
  {
   "cell_type": "code",
   "execution_count": 32,
   "id": "46b2c860-fac3-41d7-9bd3-731cd052e1cf",
   "metadata": {},
   "outputs": [
    {
     "data": {
      "text/plain": [
       "TossWinner\n",
       "Mumbai Indians                 123\n",
       "Kolkata Knight Riders          114\n",
       "Chennai Super Kings            109\n",
       "Royal Challengers Bangalore    105\n",
       "Rajasthan Royals                99\n",
       "Kings XI Punjab                 85\n",
       "Delhi Daredevils                80\n",
       "Sunrisers Hyderabad             74\n",
       "Deccan Chargers                 43\n",
       "Delhi Capitals                  36\n",
       "Pune Warriors                   20\n",
       "Gujarat Lions                   15\n",
       "Gujarat Titans                  10\n",
       "Punjab Kings                     9\n",
       "Kochi Tuskers Kerala             8\n",
       "Rising Pune Supergiants          7\n",
       "Lucknow Super Giants             7\n",
       "Rising Pune Supergiant           6\n",
       "Name: count, dtype: int64"
      ]
     },
     "execution_count": 32,
     "metadata": {},
     "output_type": "execute_result"
    }
   ],
   "source": [
    "ipl['TossWinner'].value_counts()"
   ]
  },
  {
   "cell_type": "code",
   "execution_count": 46,
   "id": "bc668a90-bfe4-456f-80a9-41a8eefd1174",
   "metadata": {},
   "outputs": [
    {
     "data": {
      "text/plain": [
       "WonBy\n",
       "Wickets      509\n",
       "Runs         423\n",
       "SuperOver     14\n",
       "NoResults      4\n",
       "Name: count, dtype: int64"
      ]
     },
     "execution_count": 46,
     "metadata": {},
     "output_type": "execute_result"
    }
   ],
   "source": [
    "ipl[\"WonBy\"].value_counts()"
   ]
  },
  {
   "cell_type": "code",
   "execution_count": 56,
   "id": "f22c08f9-898b-4642-b026-1166784c2136",
   "metadata": {},
   "outputs": [
    {
     "data": {
      "text/html": [
       "<div>\n",
       "<style scoped>\n",
       "    .dataframe tbody tr th:only-of-type {\n",
       "        vertical-align: middle;\n",
       "    }\n",
       "\n",
       "    .dataframe tbody tr th {\n",
       "        vertical-align: top;\n",
       "    }\n",
       "\n",
       "    .dataframe thead th {\n",
       "        text-align: right;\n",
       "    }\n",
       "</style>\n",
       "<table border=\"1\" class=\"dataframe\">\n",
       "  <thead>\n",
       "    <tr style=\"text-align: right;\">\n",
       "      <th></th>\n",
       "      <th>ID</th>\n",
       "      <th>City</th>\n",
       "      <th>Date</th>\n",
       "      <th>Season</th>\n",
       "      <th>MatchNumber</th>\n",
       "      <th>Team1</th>\n",
       "      <th>Team2</th>\n",
       "      <th>Venue</th>\n",
       "      <th>TossWinner</th>\n",
       "      <th>TossDecision</th>\n",
       "      <th>SuperOver</th>\n",
       "      <th>WinningTeam</th>\n",
       "      <th>WonBy</th>\n",
       "      <th>Margin</th>\n",
       "      <th>method</th>\n",
       "      <th>Player_of_Match</th>\n",
       "      <th>Team1Players</th>\n",
       "      <th>Team2Players</th>\n",
       "      <th>Umpire1</th>\n",
       "      <th>Umpire2</th>\n",
       "    </tr>\n",
       "  </thead>\n",
       "  <tbody>\n",
       "    <tr>\n",
       "      <th>0</th>\n",
       "      <td>1</td>\n",
       "      <td>Bangalore</td>\n",
       "      <td>18-04-2008</td>\n",
       "      <td>2007/08</td>\n",
       "      <td>1</td>\n",
       "      <td>Royal Challengers Bangalore</td>\n",
       "      <td>Kolkata Knight Riders</td>\n",
       "      <td>M Chinnaswamy Stadium</td>\n",
       "      <td>Royal Challengers Bangalore</td>\n",
       "      <td>field</td>\n",
       "      <td>N</td>\n",
       "      <td>Kolkata Knight Riders</td>\n",
       "      <td>Runs</td>\n",
       "      <td>140.0</td>\n",
       "      <td>NaN</td>\n",
       "      <td>BB McCullum</td>\n",
       "      <td>['R Dravid', 'W Jaffer', 'V Kohli', 'JH Kallis...</td>\n",
       "      <td>['SC Ganguly', 'BB McCullum', 'RT Ponting', 'D...</td>\n",
       "      <td>Asad Rauf</td>\n",
       "      <td>RE Koertzen</td>\n",
       "    </tr>\n",
       "    <tr>\n",
       "      <th>1</th>\n",
       "      <td>2</td>\n",
       "      <td>Delhi</td>\n",
       "      <td>19-04-2008</td>\n",
       "      <td>2007/08</td>\n",
       "      <td>3</td>\n",
       "      <td>Delhi Daredevils</td>\n",
       "      <td>Rajasthan Royals</td>\n",
       "      <td>Feroz Shah Kotla</td>\n",
       "      <td>Rajasthan Royals</td>\n",
       "      <td>bat</td>\n",
       "      <td>N</td>\n",
       "      <td>Delhi Daredevils</td>\n",
       "      <td>Wickets</td>\n",
       "      <td>9.0</td>\n",
       "      <td>NaN</td>\n",
       "      <td>MF Maharoof</td>\n",
       "      <td>['G Gambhir', 'V Sehwag', 'S Dhawan', 'MK Tiwa...</td>\n",
       "      <td>['T Kohli', 'YK Pathan', 'SR Watson', 'M Kaif'...</td>\n",
       "      <td>Aleem Dar</td>\n",
       "      <td>GA Pratapkumar</td>\n",
       "    </tr>\n",
       "    <tr>\n",
       "      <th>2</th>\n",
       "      <td>3</td>\n",
       "      <td>Chandigarh</td>\n",
       "      <td>19-04-2008</td>\n",
       "      <td>2007/08</td>\n",
       "      <td>2</td>\n",
       "      <td>Kings XI Punjab</td>\n",
       "      <td>Chennai Super Kings</td>\n",
       "      <td>Punjab Cricket Association Stadium, Mohali</td>\n",
       "      <td>Chennai Super Kings</td>\n",
       "      <td>bat</td>\n",
       "      <td>N</td>\n",
       "      <td>Chennai Super Kings</td>\n",
       "      <td>Runs</td>\n",
       "      <td>33.0</td>\n",
       "      <td>NaN</td>\n",
       "      <td>MEK Hussey</td>\n",
       "      <td>['K Goel', 'JR Hopes', 'KC Sangakkara', 'Yuvra...</td>\n",
       "      <td>['PA Patel', 'ML Hayden', 'MEK Hussey', 'MS Dh...</td>\n",
       "      <td>MR Benson</td>\n",
       "      <td>SL Shastri</td>\n",
       "    </tr>\n",
       "    <tr>\n",
       "      <th>3</th>\n",
       "      <td>4</td>\n",
       "      <td>Kolkata</td>\n",
       "      <td>20-04-2008</td>\n",
       "      <td>2007/08</td>\n",
       "      <td>4</td>\n",
       "      <td>Kolkata Knight Riders</td>\n",
       "      <td>Deccan Chargers</td>\n",
       "      <td>Eden Gardens</td>\n",
       "      <td>Deccan Chargers</td>\n",
       "      <td>bat</td>\n",
       "      <td>N</td>\n",
       "      <td>Kolkata Knight Riders</td>\n",
       "      <td>Wickets</td>\n",
       "      <td>5.0</td>\n",
       "      <td>NaN</td>\n",
       "      <td>DJ Hussey</td>\n",
       "      <td>['WP Saha', 'BB McCullum', 'RT Ponting', 'SC G...</td>\n",
       "      <td>['AC Gilchrist', 'Y Venugopal Rao', 'VVS Laxma...</td>\n",
       "      <td>BF Bowden</td>\n",
       "      <td>K Hariharan</td>\n",
       "    </tr>\n",
       "    <tr>\n",
       "      <th>4</th>\n",
       "      <td>5</td>\n",
       "      <td>Mumbai</td>\n",
       "      <td>20-04-2008</td>\n",
       "      <td>2007/08</td>\n",
       "      <td>5</td>\n",
       "      <td>Mumbai Indians</td>\n",
       "      <td>Royal Challengers Bangalore</td>\n",
       "      <td>Wankhede Stadium</td>\n",
       "      <td>Mumbai Indians</td>\n",
       "      <td>bat</td>\n",
       "      <td>N</td>\n",
       "      <td>Royal Challengers Bangalore</td>\n",
       "      <td>Wickets</td>\n",
       "      <td>5.0</td>\n",
       "      <td>NaN</td>\n",
       "      <td>MV Boucher</td>\n",
       "      <td>['L Ronchi', 'ST Jayasuriya', 'DJ Thornely', '...</td>\n",
       "      <td>['S Chanderpaul', 'R Dravid', 'LRPL Taylor', '...</td>\n",
       "      <td>SJ Davis</td>\n",
       "      <td>DJ Harper</td>\n",
       "    </tr>\n",
       "  </tbody>\n",
       "</table>\n",
       "</div>"
      ],
      "text/plain": [
       "   ID        City        Date   Season MatchNumber  \\\n",
       "0   1   Bangalore  18-04-2008  2007/08           1   \n",
       "1   2       Delhi  19-04-2008  2007/08           3   \n",
       "2   3  Chandigarh  19-04-2008  2007/08           2   \n",
       "3   4     Kolkata  20-04-2008  2007/08           4   \n",
       "4   5      Mumbai  20-04-2008  2007/08           5   \n",
       "\n",
       "                         Team1                        Team2  \\\n",
       "0  Royal Challengers Bangalore        Kolkata Knight Riders   \n",
       "1             Delhi Daredevils             Rajasthan Royals   \n",
       "2              Kings XI Punjab          Chennai Super Kings   \n",
       "3        Kolkata Knight Riders              Deccan Chargers   \n",
       "4               Mumbai Indians  Royal Challengers Bangalore   \n",
       "\n",
       "                                        Venue                   TossWinner  \\\n",
       "0                       M Chinnaswamy Stadium  Royal Challengers Bangalore   \n",
       "1                            Feroz Shah Kotla             Rajasthan Royals   \n",
       "2  Punjab Cricket Association Stadium, Mohali          Chennai Super Kings   \n",
       "3                                Eden Gardens              Deccan Chargers   \n",
       "4                            Wankhede Stadium               Mumbai Indians   \n",
       "\n",
       "  TossDecision SuperOver                  WinningTeam    WonBy  Margin method  \\\n",
       "0        field         N        Kolkata Knight Riders     Runs   140.0    NaN   \n",
       "1          bat         N             Delhi Daredevils  Wickets     9.0    NaN   \n",
       "2          bat         N          Chennai Super Kings     Runs    33.0    NaN   \n",
       "3          bat         N        Kolkata Knight Riders  Wickets     5.0    NaN   \n",
       "4          bat         N  Royal Challengers Bangalore  Wickets     5.0    NaN   \n",
       "\n",
       "  Player_of_Match                                       Team1Players  \\\n",
       "0     BB McCullum  ['R Dravid', 'W Jaffer', 'V Kohli', 'JH Kallis...   \n",
       "1     MF Maharoof  ['G Gambhir', 'V Sehwag', 'S Dhawan', 'MK Tiwa...   \n",
       "2      MEK Hussey  ['K Goel', 'JR Hopes', 'KC Sangakkara', 'Yuvra...   \n",
       "3       DJ Hussey  ['WP Saha', 'BB McCullum', 'RT Ponting', 'SC G...   \n",
       "4      MV Boucher  ['L Ronchi', 'ST Jayasuriya', 'DJ Thornely', '...   \n",
       "\n",
       "                                        Team2Players    Umpire1  \\\n",
       "0  ['SC Ganguly', 'BB McCullum', 'RT Ponting', 'D...  Asad Rauf   \n",
       "1  ['T Kohli', 'YK Pathan', 'SR Watson', 'M Kaif'...  Aleem Dar   \n",
       "2  ['PA Patel', 'ML Hayden', 'MEK Hussey', 'MS Dh...  MR Benson   \n",
       "3  ['AC Gilchrist', 'Y Venugopal Rao', 'VVS Laxma...  BF Bowden   \n",
       "4  ['S Chanderpaul', 'R Dravid', 'LRPL Taylor', '...   SJ Davis   \n",
       "\n",
       "          Umpire2  \n",
       "0     RE Koertzen  \n",
       "1  GA Pratapkumar  \n",
       "2      SL Shastri  \n",
       "3     K Hariharan  \n",
       "4       DJ Harper  "
      ]
     },
     "execution_count": 56,
     "metadata": {},
     "output_type": "execute_result"
    }
   ],
   "source": [
    "Won_by_runs=ipl[ipl['Margin']!=0]\n",
    "Won_by_runs.head()"
   ]
  },
  {
   "cell_type": "code",
   "execution_count": 60,
   "id": "7b48dca9-db2c-445d-91b9-809c56fb5cef",
   "metadata": {},
   "outputs": [
    {
     "data": {
      "text/plain": [
       "(950, 20)"
      ]
     },
     "execution_count": 60,
     "metadata": {},
     "output_type": "execute_result"
    }
   ],
   "source": [
    "Won_by_runs.shape"
   ]
  },
  {
   "cell_type": "code",
   "execution_count": 64,
   "id": "b9cbd5db-768c-4889-a285-3440885f8bef",
   "metadata": {},
   "outputs": [
    {
     "data": {
      "image/png": "[encoded data removed]",
      "text/plain": [
       "<Figure size 700x700 with 1 Axes>"
      ]
     },
     "metadata": {},
     "output_type": "display_data"
    }
   ],
   "source": [
    "#graph of teams;x-axis=no, of runs, y- axis= no. of times it has happened\n",
    "plt.figure(figsize=(7,7))\n",
    "plt.hist(Won_by_runs['Margin'])\n",
    "plt.title('Distribution of runs')\n",
    "plt.xlabel('Runs')\n",
    "plt.ylabel('Times')\n",
    "plt.show()"
   ]
  },
  {
   "cell_type": "code",
   "execution_count": 82,
   "id": "ce033d25-f79e-4413-8042-ee97efdcb55a",
   "metadata": {},
   "outputs": [
    {
     "data": {
      "text/plain": [
       "WinningTeam\n",
       "Mumbai Indians                 131\n",
       "Chennai Super Kings            121\n",
       "Kolkata Knight Riders          114\n",
       "Royal Challengers Bangalore    109\n",
       "Rajasthan Royals                96\n",
       "Kings XI Punjab                 88\n",
       "Sunrisers Hyderabad             75\n",
       "Delhi Daredevils                67\n",
       "Delhi Capitals                  36\n",
       "Deccan Chargers                 29\n",
       "Punjab Kings                    13\n",
       "Gujarat Lions                   13\n",
       "Pune Warriors                   12\n",
       "Gujarat Titans                  12\n",
       "Rising Pune Supergiant          10\n",
       "Lucknow Super Giants             9\n",
       "Kochi Tuskers Kerala             6\n",
       "Rising Pune Supergiants          5\n",
       "Name: count, dtype: int64"
      ]
     },
     "execution_count": 82,
     "metadata": {},
     "output_type": "execute_result"
    }
   ],
   "source": [
    "Won_by_runs['WinningTeam'].value_counts()"
   ]
  },
  {
   "cell_type": "code",
   "execution_count": 98,
   "id": "f1ae72f9-6457-4e55-9d58-89fc05573aa8",
   "metadata": {},
   "outputs": [
    {
     "data": {
      "image/png": "[encoded data removed]",
      "text/plain": [
       "<Figure size 700x500 with 1 Axes>"
      ]
     },
     "metadata": {},
     "output_type": "display_data"
    }
   ],
   "source": [
    "#Representation of the top 3 teams after batting first using barplot\n",
    "plt.figure(figsize=(7,5))\n",
    "plt.bar(list(Won_by_runs['WinningTeam'].value_counts()[0:3].keys()),list(Won_by_runs['WinningTeam'].value_counts()[0:3]),color=['orange','yellow','green'])\n",
    "plt.show()"
   ]
  },
  {
   "cell_type": "code",
   "execution_count": 114,
   "id": "068adad6-6d83-4fac-aed9-a0ef3c9848c8",
   "metadata": {},
   "outputs": [
    {
     "data": {
      "image/png": "[encoded data removed]",
      "text/plain": [
       "<Figure size 700x500 with 1 Axes>"
      ]
     },
     "metadata": {},
     "output_type": "display_data"
    }
   ],
   "source": [
    "#pie chart\n",
    "plt.figure(figsize=(7,5))\n",
    "plt.pie(list(Won_by_runs['WinningTeam'].value_counts()),labels=list(Won_by_runs['WinningTeam'].value_counts().keys()),autopct='%0.1f%%')\n",
    "plt.show()"
   ]
  },
  {
   "cell_type": "code",
   "execution_count": null,
   "id": "3e43b81a-5f26-4161-9f66-940829bd0272",
   "metadata": {},
   "outputs": [],
   "source": [
    "Won_by_wickets"
   ]
  },
  {
   "cell_type": "code",
   "execution_count": 122,
   "id": "badbe6e9-cd0a-4ecf-8913-efdcfc307334",
   "metadata": {},
   "outputs": [
    {
     "data": {
      "text/plain": [
       "Season\n",
       "2013       76\n",
       "2012       74\n",
       "2022       74\n",
       "2011       73\n",
       "2009/10    60\n",
       "2014       60\n",
       "2016       60\n",
       "2018       60\n",
       "2019       60\n",
       "2020/21    60\n",
       "2021       60\n",
       "2015       59\n",
       "2017       59\n",
       "2007/08    58\n",
       "2009       57\n",
       "Name: count, dtype: int64"
      ]
     },
     "execution_count": 122,
     "metadata": {},
     "output_type": "execute_result"
    }
   ],
   "source": [
    "#number of matches played in each season\n",
    "ipl['Season'].value_counts()"
   ]
  },
  {
   "cell_type": "code",
   "execution_count": 124,
   "id": "548adc69-6bd0-4d27-b185-8368b0f1b975",
   "metadata": {},
   "outputs": [
    {
     "data": {
      "text/plain": [
       "City\n",
       "Mumbai            159\n",
       "Kolkata            79\n",
       "Delhi              78\n",
       "Chennai            67\n",
       "Bangalore          65\n",
       "Hyderabad          64\n",
       "Chandigarh         56\n",
       "Pune               51\n",
       "Jaipur             47\n",
       "Abu Dhabi          37\n",
       "Ahmedabad          19\n",
       "Durban             15\n",
       "Bengaluru          15\n",
       "Visakhapatnam      13\n",
       "Dubai              13\n",
       "Centurion          12\n",
       "Sharjah            10\n",
       "Rajkot             10\n",
       "Navi Mumbai         9\n",
       "Dharamsala          9\n",
       "Indore              9\n",
       "Johannesburg        8\n",
       "Cape Town           7\n",
       "Port Elizabeth      7\n",
       "Cuttack             7\n",
       "Ranchi              7\n",
       "Raipur              6\n",
       "Kochi               5\n",
       "Kanpur              4\n",
       "East London         3\n",
       "Kimberley           3\n",
       "Nagpur              3\n",
       "Bloemfontein        2\n",
       "Name: count, dtype: int64"
      ]
     },
     "execution_count": 124,
     "metadata": {},
     "output_type": "execute_result"
    }
   ],
   "source": [
    "ipl['City'].value_counts()"
   ]
  },
  {
   "cell_type": "code",
   "execution_count": 126,
   "id": "52c6a15c-38af-4627-903d-bcb7f3a36ab1",
   "metadata": {},
   "outputs": [],
   "source": [
    "#finding if the team winning toss= winner\n",
    "import numpy as np"
   ]
  },
  {
   "cell_type": "code",
   "execution_count": 136,
   "id": "b965ae7c-5a88-4880-a245-68e0917460bf",
   "metadata": {},
   "outputs": [
    {
     "data": {
      "text/plain": [
       "489"
      ]
     },
     "execution_count": 136,
     "metadata": {},
     "output_type": "execute_result"
    }
   ],
   "source": [
    "np.sum(ipl['TossWinner']==ipl['WinningTeam'])"
   ]
  },
  {
   "cell_type": "code",
   "execution_count": 138,
   "id": "6c204746-f456-4559-874e-3f868986f3f1",
   "metadata": {},
   "outputs": [
    {
     "data": {
      "text/plain": [
       "0.5147368421052632"
      ]
     },
     "execution_count": 138,
     "metadata": {},
     "output_type": "execute_result"
    }
   ],
   "source": [
    "489/950"
   ]
  },
  {
   "cell_type": "code",
   "execution_count": 146,
   "id": "fe8659dd-0e25-4375-93f9-fa7276f8bdf6",
   "metadata": {},
   "outputs": [],
   "source": [
    "dileveries=pd.read_csv(r\"D:\\NANDAN's Documents\\Infogerm int\\ipl ball by ball.csv\")"
   ]
  },
  {
   "cell_type": "code",
   "execution_count": 150,
   "id": "710b3257-0aed-4e9d-8cd6-03749304dd57",
   "metadata": {},
   "outputs": [
    {
     "data": {
      "text/html": [
       "<div>\n",
       "<style scoped>\n",
       "    .dataframe tbody tr th:only-of-type {\n",
       "        vertical-align: middle;\n",
       "    }\n",
       "\n",
       "    .dataframe tbody tr th {\n",
       "        vertical-align: top;\n",
       "    }\n",
       "\n",
       "    .dataframe thead th {\n",
       "        text-align: right;\n",
       "    }\n",
       "</style>\n",
       "<table border=\"1\" class=\"dataframe\">\n",
       "  <thead>\n",
       "    <tr style=\"text-align: right;\">\n",
       "      <th></th>\n",
       "      <th>ID</th>\n",
       "      <th>innings</th>\n",
       "      <th>overs</th>\n",
       "      <th>ballnumber</th>\n",
       "      <th>batter</th>\n",
       "      <th>bowler</th>\n",
       "      <th>non-striker</th>\n",
       "      <th>extra_type</th>\n",
       "      <th>batsman_run</th>\n",
       "      <th>extras_run</th>\n",
       "      <th>total_run</th>\n",
       "      <th>non_boundary</th>\n",
       "      <th>isWicketDelivery</th>\n",
       "      <th>player_out</th>\n",
       "      <th>kind</th>\n",
       "      <th>fielders_involved</th>\n",
       "      <th>BattingTeam</th>\n",
       "    </tr>\n",
       "  </thead>\n",
       "  <tbody>\n",
       "    <tr>\n",
       "      <th>0</th>\n",
       "      <td>1312200</td>\n",
       "      <td>1</td>\n",
       "      <td>0</td>\n",
       "      <td>1</td>\n",
       "      <td>YBK Jaiswal</td>\n",
       "      <td>Mohammed Shami</td>\n",
       "      <td>JC Buttler</td>\n",
       "      <td>NaN</td>\n",
       "      <td>0</td>\n",
       "      <td>0</td>\n",
       "      <td>0</td>\n",
       "      <td>0</td>\n",
       "      <td>0</td>\n",
       "      <td>NaN</td>\n",
       "      <td>NaN</td>\n",
       "      <td>NaN</td>\n",
       "      <td>Rajasthan Royals</td>\n",
       "    </tr>\n",
       "    <tr>\n",
       "      <th>1</th>\n",
       "      <td>1312200</td>\n",
       "      <td>1</td>\n",
       "      <td>0</td>\n",
       "      <td>2</td>\n",
       "      <td>YBK Jaiswal</td>\n",
       "      <td>Mohammed Shami</td>\n",
       "      <td>JC Buttler</td>\n",
       "      <td>legbyes</td>\n",
       "      <td>0</td>\n",
       "      <td>1</td>\n",
       "      <td>1</td>\n",
       "      <td>0</td>\n",
       "      <td>0</td>\n",
       "      <td>NaN</td>\n",
       "      <td>NaN</td>\n",
       "      <td>NaN</td>\n",
       "      <td>Rajasthan Royals</td>\n",
       "    </tr>\n",
       "    <tr>\n",
       "      <th>2</th>\n",
       "      <td>1312200</td>\n",
       "      <td>1</td>\n",
       "      <td>0</td>\n",
       "      <td>3</td>\n",
       "      <td>JC Buttler</td>\n",
       "      <td>Mohammed Shami</td>\n",
       "      <td>YBK Jaiswal</td>\n",
       "      <td>NaN</td>\n",
       "      <td>1</td>\n",
       "      <td>0</td>\n",
       "      <td>1</td>\n",
       "      <td>0</td>\n",
       "      <td>0</td>\n",
       "      <td>NaN</td>\n",
       "      <td>NaN</td>\n",
       "      <td>NaN</td>\n",
       "      <td>Rajasthan Royals</td>\n",
       "    </tr>\n",
       "    <tr>\n",
       "      <th>3</th>\n",
       "      <td>1312200</td>\n",
       "      <td>1</td>\n",
       "      <td>0</td>\n",
       "      <td>4</td>\n",
       "      <td>YBK Jaiswal</td>\n",
       "      <td>Mohammed Shami</td>\n",
       "      <td>JC Buttler</td>\n",
       "      <td>NaN</td>\n",
       "      <td>0</td>\n",
       "      <td>0</td>\n",
       "      <td>0</td>\n",
       "      <td>0</td>\n",
       "      <td>0</td>\n",
       "      <td>NaN</td>\n",
       "      <td>NaN</td>\n",
       "      <td>NaN</td>\n",
       "      <td>Rajasthan Royals</td>\n",
       "    </tr>\n",
       "    <tr>\n",
       "      <th>4</th>\n",
       "      <td>1312200</td>\n",
       "      <td>1</td>\n",
       "      <td>0</td>\n",
       "      <td>5</td>\n",
       "      <td>YBK Jaiswal</td>\n",
       "      <td>Mohammed Shami</td>\n",
       "      <td>JC Buttler</td>\n",
       "      <td>NaN</td>\n",
       "      <td>0</td>\n",
       "      <td>0</td>\n",
       "      <td>0</td>\n",
       "      <td>0</td>\n",
       "      <td>0</td>\n",
       "      <td>NaN</td>\n",
       "      <td>NaN</td>\n",
       "      <td>NaN</td>\n",
       "      <td>Rajasthan Royals</td>\n",
       "    </tr>\n",
       "  </tbody>\n",
       "</table>\n",
       "</div>"
      ],
      "text/plain": [
       "        ID  innings  overs  ballnumber       batter          bowler  \\\n",
       "0  1312200        1      0           1  YBK Jaiswal  Mohammed Shami   \n",
       "1  1312200        1      0           2  YBK Jaiswal  Mohammed Shami   \n",
       "2  1312200        1      0           3   JC Buttler  Mohammed Shami   \n",
       "3  1312200        1      0           4  YBK Jaiswal  Mohammed Shami   \n",
       "4  1312200        1      0           5  YBK Jaiswal  Mohammed Shami   \n",
       "\n",
       "   non-striker extra_type  batsman_run  extras_run  total_run  non_boundary  \\\n",
       "0   JC Buttler        NaN            0           0          0             0   \n",
       "1   JC Buttler    legbyes            0           1          1             0   \n",
       "2  YBK Jaiswal        NaN            1           0          1             0   \n",
       "3   JC Buttler        NaN            0           0          0             0   \n",
       "4   JC Buttler        NaN            0           0          0             0   \n",
       "\n",
       "   isWicketDelivery player_out kind fielders_involved       BattingTeam  \n",
       "0                 0        NaN  NaN               NaN  Rajasthan Royals  \n",
       "1                 0        NaN  NaN               NaN  Rajasthan Royals  \n",
       "2                 0        NaN  NaN               NaN  Rajasthan Royals  \n",
       "3                 0        NaN  NaN               NaN  Rajasthan Royals  \n",
       "4                 0        NaN  NaN               NaN  Rajasthan Royals  "
      ]
     },
     "execution_count": 150,
     "metadata": {},
     "output_type": "execute_result"
    }
   ],
   "source": [
    "dileveries.head()"
   ]
  },
  {
   "cell_type": "code",
   "execution_count": 152,
   "id": "f74ee1e9-d3c5-4ad2-b73d-57c8f0ac955a",
   "metadata": {},
   "outputs": [
    {
     "data": {
      "text/plain": [
       "array([1312200, 1312199, 1312198, 1312197, 1304116, 1304115, 1304114,\n",
       "       1304113, 1304112, 1304111, 1304110, 1304109, 1304108, 1304107,\n",
       "       1304106, 1304105, 1304104, 1304103, 1304102, 1304101, 1304100,\n",
       "       1304099, 1304098, 1304097, 1304096, 1304095, 1304094, 1304093,\n",
       "       1304092, 1304091, 1304090, 1304089, 1304088, 1304087, 1304086,\n",
       "       1304085, 1304084, 1304083, 1304082, 1304081, 1304080, 1304079,\n",
       "       1304078, 1304077, 1304076, 1304075, 1304074, 1304073, 1304072,\n",
       "       1304071, 1304070, 1304069, 1304068, 1304067, 1304066, 1304065,\n",
       "       1304064, 1304063, 1304062, 1304061, 1304060, 1304059, 1304058,\n",
       "       1304057, 1304056, 1304055, 1304054, 1304053, 1304052, 1304051,\n",
       "       1304050, 1304049, 1304048, 1304047, 1254117, 1254116, 1254115,\n",
       "       1254114, 1254113, 1254112, 1254111, 1254110, 1254109, 1254108,\n",
       "       1254107, 1254106, 1254105, 1254104, 1254103, 1254102, 1254101,\n",
       "       1254100, 1254099, 1254098, 1254097, 1254096, 1254095, 1254094,\n",
       "       1254093, 1254092, 1254091, 1254090, 1254089, 1254088, 1254087,\n",
       "       1254086, 1254085, 1254084, 1254083, 1254082, 1254081, 1254080,\n",
       "       1254079, 1254078, 1254077, 1254076, 1254075, 1254074, 1254073,\n",
       "       1254072, 1254071, 1254070, 1254069, 1254068, 1254067, 1254066,\n",
       "       1254065, 1254064, 1254063, 1254062, 1254061, 1254060, 1254059,\n",
       "       1254058, 1237181, 1237180, 1237178, 1237177, 1216547, 1216546,\n",
       "       1216545, 1216544, 1216543, 1216542, 1216541, 1216540, 1216539,\n",
       "       1216538, 1216537, 1216536, 1216535, 1216534, 1216533, 1216532,\n",
       "       1216531, 1216530, 1216529, 1216528, 1216527, 1216526, 1216525,\n",
       "       1216524, 1216523, 1216522, 1216521, 1216520, 1216519, 1216518,\n",
       "       1216517, 1216516, 1216515, 1216514, 1216513, 1216512, 1216511,\n",
       "       1216510, 1216509, 1216508, 1216507, 1216506, 1216505, 1216504,\n",
       "       1216503, 1216502, 1216501, 1216500, 1216499, 1216498, 1216497,\n",
       "       1216496, 1216495, 1216494, 1216493, 1216492, 1181768, 1181767,\n",
       "       1181766, 1181764, 1178431, 1178430, 1178429, 1178428, 1178427,\n",
       "       1178426, 1178425, 1178424, 1178423, 1178422, 1178421, 1178420,\n",
       "       1178419, 1178418, 1178417, 1178416, 1178415, 1178414, 1178413,\n",
       "       1178412, 1178411, 1178410, 1178409, 1178408, 1178407, 1178406,\n",
       "       1178405, 1178404, 1178403, 1178402, 1178401, 1178400, 1178399,\n",
       "       1178398, 1178397, 1178396, 1178395, 1178394, 1178393, 1175372,\n",
       "       1175371, 1175370, 1175369, 1175368, 1175367, 1175366, 1175365,\n",
       "       1175364, 1175363, 1175362, 1175361, 1175360, 1175359, 1175358,\n",
       "       1175357, 1175356, 1136620, 1136619, 1136618, 1136617, 1136616,\n",
       "       1136615, 1136614, 1136613, 1136612, 1136611, 1136610, 1136609,\n",
       "       1136608, 1136607, 1136606, 1136605, 1136604, 1136603, 1136602,\n",
       "       1136601, 1136600, 1136599, 1136598, 1136597, 1136596, 1136595,\n",
       "       1136594, 1136593, 1136592, 1136591, 1136590, 1136589, 1136588,\n",
       "       1136587, 1136586, 1136585, 1136584, 1136583, 1136582, 1136581,\n",
       "       1136580, 1136579, 1136578, 1136577, 1136576, 1136575, 1136574,\n",
       "       1136573, 1136572, 1136571, 1136570, 1136569, 1136568, 1136567,\n",
       "       1136566, 1136565, 1136564, 1136563, 1136562, 1136561, 1082650,\n",
       "       1082649, 1082648, 1082647, 1082646, 1082645, 1082644, 1082643,\n",
       "       1082642, 1082641, 1082640, 1082639, 1082638, 1082637, 1082636,\n",
       "       1082635, 1082634, 1082633, 1082632, 1082631, 1082630, 1082629,\n",
       "       1082628, 1082627, 1082626, 1082625, 1082624, 1082623, 1082622,\n",
       "       1082621, 1082620, 1082618, 1082617, 1082616, 1082615, 1082614,\n",
       "       1082613, 1082612, 1082611, 1082610, 1082609, 1082608, 1082607,\n",
       "       1082606, 1082605, 1082604, 1082603, 1082602, 1082601, 1082600,\n",
       "       1082599, 1082598, 1082597, 1082596, 1082595, 1082594, 1082593,\n",
       "       1082592, 1082591,  981019,  981017,  981015,  981013,  981011,\n",
       "        981009,  981007,  981005,  981003,  981001,  980999,  980997,\n",
       "        980995,  980993,  980991,  980989,  980987,  980985,  980983,\n",
       "        980981,  980979,  980977,  980975,  980973,  980971,  980969,\n",
       "        980967,  980965,  980963,  980961,  980959,  980957,  980955,\n",
       "        980953,  980951,  980949,  980947,  980945,  980943,  980941,\n",
       "        980939,  980937,  980935,  980933,  980931,  980929,  980927,\n",
       "        980925,  980923,  980921,  980919,  980917,  980915,  980913,\n",
       "        980911,  980909,  980907,  980905,  980903,  980901,  829823,\n",
       "        829821,  829819,  829817,  829815,  829813,  829811,  829809,\n",
       "        829807,  829805,  829803,  829801,  829799,  829797,  829795,\n",
       "        829793,  829791,  829789,  829787,  829785,  829783,  829781,\n",
       "        829779,  829777,  829775,  829773,  829771,  829769,  829767,\n",
       "        829765,  829763,  829761,  829759,  829757,  829753,  829751,\n",
       "        829749,  829747,  829745,  829743,  829741,  829739,  829737,\n",
       "        829735,  829733,  829731,  829729,  829727,  829725,  829723,\n",
       "        829721,  829719,  829717,  829715,  829713,  829711,  829709,\n",
       "        829707,  829705,  734049,  734047,  734045,  734043,  734041,\n",
       "        734039,  734037,  734035,  734033,  734031,  734029,  734027,\n",
       "        734025,  734023,  734021,  734019,  734017,  734015,  734013,\n",
       "        734011,  734009,  734007,  734005,  734003,  734001,  733999,\n",
       "        733997,  733995,  733993,  733991,  733989,  733987,  733985,\n",
       "        733983,  733981,  733979,  733977,  733975,  733973,  733971,\n",
       "        729317,  729315,  729313,  729311,  729309,  729307,  729305,\n",
       "        729303,  729301,  729299,  729297,  729295,  729293,  729291,\n",
       "        729289,  729287,  729285,  729283,  729281,  729279,  598073,\n",
       "        598072,  598071,  598070,  598069,  598068,  598067,  598066,\n",
       "        598065,  598064,  598063,  598062,  598061,  598060,  598059,\n",
       "        598058,  598057,  598056,  598055,  598054,  598053,  598052,\n",
       "        598051,  598050,  598049,  598048,  598047,  598046,  598045,\n",
       "        598044,  598043,  598042,  598041,  598040,  598039,  598038,\n",
       "        598037,  598036,  598035,  598034,  598033,  598032,  598031,\n",
       "        598030,  598029,  598028,  598027,  598026,  598025,  598024,\n",
       "        598023,  598022,  598021,  598020,  598019,  598018,  598017,\n",
       "        598016,  598015,  598014,  598013,  598012,  598011,  598010,\n",
       "        598009,  598008,  598007,  598006,  598005,  598004,  598003,\n",
       "        598002,  598001,  598000,  597999,  597998,  548381,  548380,\n",
       "        548379,  548378,  548377,  548376,  548375,  548374,  548373,\n",
       "        548372,  548371,  548370,  548369,  548368,  548367,  548366,\n",
       "        548365,  548364,  548363,  548362,  548361,  548360,  548359,\n",
       "        548358,  548357,  548356,  548355,  548354,  548353,  548352,\n",
       "        548351,  548350,  548349,  548348,  548347,  548346,  548345,\n",
       "        548344,  548343,  548342,  548341,  548339,  548337,  548336,\n",
       "        548335,  548334,  548333,  548332,  548331,  548330,  548329,\n",
       "        548328,  548327,  548326,  548325,  548324,  548323,  548322,\n",
       "        548321,  548320,  548319,  548318,  548317,  548316,  548315,\n",
       "        548314,  548313,  548312,  548311,  548310,  548309,  548308,\n",
       "        548307,  548306,  501271,  501270,  501269,  501268,  501267,\n",
       "        501266,  501265,  501264,  501263,  501262,  501261,  501260,\n",
       "        501259,  501258,  501257,  501256,  501255,  501254,  501253,\n",
       "        501252,  501251,  501250,  501249,  501248,  501247,  501246,\n",
       "        501245,  501244,  501243,  501242,  501241,  501240,  501239,\n",
       "        501238,  501237,  501236,  501235,  501234,  501233,  501232,\n",
       "        501231,  501230,  501229,  501228,  501227,  501226,  501225,\n",
       "        501224,  501223,  501222,  501221,  501220,  501219,  501218,\n",
       "        501216,  501215,  501214,  501213,  501212,  501211,  501210,\n",
       "        501209,  501208,  501207,  501206,  501205,  501204,  501203,\n",
       "        501202,  501201,  501200,  501199,  501198,  419165,  419164,\n",
       "        419163,  419162,  419161,  419160,  419159,  419158,  419157,\n",
       "        419156,  419155,  419154,  419153,  419152,  419151,  419150,\n",
       "        419149,  419148,  419147,  419146,  419145,  419144,  419143,\n",
       "        419142,  419141,  419140,  419139,  419138,  419137,  419136,\n",
       "        419135,  419134,  419133,  419132,  419131,  419130,  419129,\n",
       "        419128,  419127,  419126,  419125,  419124,  419123,  419122,\n",
       "        419121,  419120,  419119,  419118,  419117,  419116,  419115,\n",
       "        419114,  419113,  419112,  419111,  419110,  419109,  419108,\n",
       "        419107,  419106,  392239,  392238,  392237,  392236,  392235,\n",
       "        392234,  392233,  392232,  392231,  392230,  392229,  392228,\n",
       "        392227,  392226,  392225,  392224,  392223,  392222,  392221,\n",
       "        392220,  392219,  392218,  392217,  392216,  392215,  392214,\n",
       "        392213,  392212,  392211,  392210,  392209,  392208,  392207,\n",
       "        392206,  392205,  392204,  392203,  392202,  392201,  392200,\n",
       "        392199,  392198,  392197,  392196,  392195,  392194,  392192,\n",
       "        392191,  392190,  392189,  392188,  392186,  392185,  392184,\n",
       "        392183,  392182,  392181,  336040,  336039,  336038,  336037,\n",
       "        336036,  336035,  336034,  336033,  336032,  336031,  336029,\n",
       "        336028,  336027,  336026,  336025,  336024,  336023,  336022,\n",
       "        336021,  336020,  336019,  336018,  336017,  336016,  336015,\n",
       "        336014,  336013,  336012,  336011,  336010,  336009,  336008,\n",
       "        336007,  336006,  336005,  336004,  336003,  336002,  336001,\n",
       "        336000,  335999,  335998,  335997,  335996,  335995,  335994,\n",
       "        335993,  335992,  335991,  335990,  335989,  335988,  335987,\n",
       "        335986,  335985,  335984,  335983,  335982], dtype=int64)"
      ]
     },
     "execution_count": 152,
     "metadata": {},
     "output_type": "execute_result"
    }
   ],
   "source": [
    "dileveries['ID'].unique()"
   ]
  },
  {
   "cell_type": "code",
   "execution_count": 158,
   "id": "7ac98243-93bc-44c7-9371-570425e4ce34",
   "metadata": {},
   "outputs": [],
   "source": [
    "match_1=dileveries[dileveries['ID']==1312200]"
   ]
  },
  {
   "cell_type": "code",
   "execution_count": 162,
   "id": "32e00ae7-68fe-48a6-8db9-41d93f0ad0ff",
   "metadata": {},
   "outputs": [
    {
     "data": {
      "text/html": [
       "<div>\n",
       "<style scoped>\n",
       "    .dataframe tbody tr th:only-of-type {\n",
       "        vertical-align: middle;\n",
       "    }\n",
       "\n",
       "    .dataframe tbody tr th {\n",
       "        vertical-align: top;\n",
       "    }\n",
       "\n",
       "    .dataframe thead th {\n",
       "        text-align: right;\n",
       "    }\n",
       "</style>\n",
       "<table border=\"1\" class=\"dataframe\">\n",
       "  <thead>\n",
       "    <tr style=\"text-align: right;\">\n",
       "      <th></th>\n",
       "      <th>ID</th>\n",
       "      <th>innings</th>\n",
       "      <th>overs</th>\n",
       "      <th>ballnumber</th>\n",
       "      <th>batter</th>\n",
       "      <th>bowler</th>\n",
       "      <th>non-striker</th>\n",
       "      <th>extra_type</th>\n",
       "      <th>batsman_run</th>\n",
       "      <th>extras_run</th>\n",
       "      <th>total_run</th>\n",
       "      <th>non_boundary</th>\n",
       "      <th>isWicketDelivery</th>\n",
       "      <th>player_out</th>\n",
       "      <th>kind</th>\n",
       "      <th>fielders_involved</th>\n",
       "      <th>BattingTeam</th>\n",
       "    </tr>\n",
       "  </thead>\n",
       "  <tbody>\n",
       "    <tr>\n",
       "      <th>0</th>\n",
       "      <td>1312200</td>\n",
       "      <td>1</td>\n",
       "      <td>0</td>\n",
       "      <td>1</td>\n",
       "      <td>YBK Jaiswal</td>\n",
       "      <td>Mohammed Shami</td>\n",
       "      <td>JC Buttler</td>\n",
       "      <td>NaN</td>\n",
       "      <td>0</td>\n",
       "      <td>0</td>\n",
       "      <td>0</td>\n",
       "      <td>0</td>\n",
       "      <td>0</td>\n",
       "      <td>NaN</td>\n",
       "      <td>NaN</td>\n",
       "      <td>NaN</td>\n",
       "      <td>Rajasthan Royals</td>\n",
       "    </tr>\n",
       "    <tr>\n",
       "      <th>1</th>\n",
       "      <td>1312200</td>\n",
       "      <td>1</td>\n",
       "      <td>0</td>\n",
       "      <td>2</td>\n",
       "      <td>YBK Jaiswal</td>\n",
       "      <td>Mohammed Shami</td>\n",
       "      <td>JC Buttler</td>\n",
       "      <td>legbyes</td>\n",
       "      <td>0</td>\n",
       "      <td>1</td>\n",
       "      <td>1</td>\n",
       "      <td>0</td>\n",
       "      <td>0</td>\n",
       "      <td>NaN</td>\n",
       "      <td>NaN</td>\n",
       "      <td>NaN</td>\n",
       "      <td>Rajasthan Royals</td>\n",
       "    </tr>\n",
       "    <tr>\n",
       "      <th>2</th>\n",
       "      <td>1312200</td>\n",
       "      <td>1</td>\n",
       "      <td>0</td>\n",
       "      <td>3</td>\n",
       "      <td>JC Buttler</td>\n",
       "      <td>Mohammed Shami</td>\n",
       "      <td>YBK Jaiswal</td>\n",
       "      <td>NaN</td>\n",
       "      <td>1</td>\n",
       "      <td>0</td>\n",
       "      <td>1</td>\n",
       "      <td>0</td>\n",
       "      <td>0</td>\n",
       "      <td>NaN</td>\n",
       "      <td>NaN</td>\n",
       "      <td>NaN</td>\n",
       "      <td>Rajasthan Royals</td>\n",
       "    </tr>\n",
       "    <tr>\n",
       "      <th>3</th>\n",
       "      <td>1312200</td>\n",
       "      <td>1</td>\n",
       "      <td>0</td>\n",
       "      <td>4</td>\n",
       "      <td>YBK Jaiswal</td>\n",
       "      <td>Mohammed Shami</td>\n",
       "      <td>JC Buttler</td>\n",
       "      <td>NaN</td>\n",
       "      <td>0</td>\n",
       "      <td>0</td>\n",
       "      <td>0</td>\n",
       "      <td>0</td>\n",
       "      <td>0</td>\n",
       "      <td>NaN</td>\n",
       "      <td>NaN</td>\n",
       "      <td>NaN</td>\n",
       "      <td>Rajasthan Royals</td>\n",
       "    </tr>\n",
       "    <tr>\n",
       "      <th>4</th>\n",
       "      <td>1312200</td>\n",
       "      <td>1</td>\n",
       "      <td>0</td>\n",
       "      <td>5</td>\n",
       "      <td>YBK Jaiswal</td>\n",
       "      <td>Mohammed Shami</td>\n",
       "      <td>JC Buttler</td>\n",
       "      <td>NaN</td>\n",
       "      <td>0</td>\n",
       "      <td>0</td>\n",
       "      <td>0</td>\n",
       "      <td>0</td>\n",
       "      <td>0</td>\n",
       "      <td>NaN</td>\n",
       "      <td>NaN</td>\n",
       "      <td>NaN</td>\n",
       "      <td>Rajasthan Royals</td>\n",
       "    </tr>\n",
       "  </tbody>\n",
       "</table>\n",
       "</div>"
      ],
      "text/plain": [
       "        ID  innings  overs  ballnumber       batter          bowler  \\\n",
       "0  1312200        1      0           1  YBK Jaiswal  Mohammed Shami   \n",
       "1  1312200        1      0           2  YBK Jaiswal  Mohammed Shami   \n",
       "2  1312200        1      0           3   JC Buttler  Mohammed Shami   \n",
       "3  1312200        1      0           4  YBK Jaiswal  Mohammed Shami   \n",
       "4  1312200        1      0           5  YBK Jaiswal  Mohammed Shami   \n",
       "\n",
       "   non-striker extra_type  batsman_run  extras_run  total_run  non_boundary  \\\n",
       "0   JC Buttler        NaN            0           0          0             0   \n",
       "1   JC Buttler    legbyes            0           1          1             0   \n",
       "2  YBK Jaiswal        NaN            1           0          1             0   \n",
       "3   JC Buttler        NaN            0           0          0             0   \n",
       "4   JC Buttler        NaN            0           0          0             0   \n",
       "\n",
       "   isWicketDelivery player_out kind fielders_involved       BattingTeam  \n",
       "0                 0        NaN  NaN               NaN  Rajasthan Royals  \n",
       "1                 0        NaN  NaN               NaN  Rajasthan Royals  \n",
       "2                 0        NaN  NaN               NaN  Rajasthan Royals  \n",
       "3                 0        NaN  NaN               NaN  Rajasthan Royals  \n",
       "4                 0        NaN  NaN               NaN  Rajasthan Royals  "
      ]
     },
     "execution_count": 162,
     "metadata": {},
     "output_type": "execute_result"
    }
   ],
   "source": [
    "match_1.head()"
   ]
  },
  {
   "cell_type": "code",
   "execution_count": 164,
   "id": "cdabf5cc-5197-4bcd-952c-4c8438ec359a",
   "metadata": {},
   "outputs": [
    {
     "data": {
      "text/plain": [
       "(233, 17)"
      ]
     },
     "execution_count": 164,
     "metadata": {},
     "output_type": "execute_result"
    }
   ],
   "source": [
    "match_1.shape"
   ]
  },
  {
   "cell_type": "code",
   "execution_count": 170,
   "id": "099ec1cf-31b2-4084-9090-55dd1c0a96ef",
   "metadata": {},
   "outputs": [],
   "source": [
    "srh=match_1[match_1['innings']==1]"
   ]
  },
  {
   "cell_type": "code",
   "execution_count": 172,
   "id": "4332b5af-68e7-4bee-b633-97b7e5ce5e8f",
   "metadata": {},
   "outputs": [
    {
     "data": {
      "text/plain": [
       "batsman_run\n",
       "0    52\n",
       "1    47\n",
       "4    11\n",
       "2     5\n",
       "6     4\n",
       "3     1\n",
       "Name: count, dtype: int64"
      ]
     },
     "execution_count": 172,
     "metadata": {},
     "output_type": "execute_result"
    }
   ],
   "source": [
    "srh['batsman_run'].value_counts()"
   ]
  },
  {
   "cell_type": "code",
   "execution_count": 188,
   "id": "b155b443-a9e9-483a-823c-d2266a48d497",
   "metadata": {},
   "outputs": [
    {
     "data": {
      "text/plain": [
       "kind\n",
       "caught               6\n",
       "caught and bowled    1\n",
       "run out              1\n",
       "bowled               1\n",
       "Name: count, dtype: int64"
      ]
     },
     "execution_count": 188,
     "metadata": {},
     "output_type": "execute_result"
    }
   ],
   "source": [
    "srh[\"kind\"].value_counts()"
   ]
  },
  {
   "cell_type": "code",
   "execution_count": 178,
   "id": "2f820f01-3584-4fee-88de-da2987115671",
   "metadata": {},
   "outputs": [],
   "source": [
    "rcb=match_1[match_1['innings']==2]"
   ]
  },
  {
   "cell_type": "code",
   "execution_count": 180,
   "id": "5fd344b1-e91b-4b37-9f32-269799a56d9d",
   "metadata": {},
   "outputs": [
    {
     "data": {
      "text/plain": [
       "batsman_run\n",
       "0    51\n",
       "1    36\n",
       "2    12\n",
       "4    10\n",
       "6     4\n",
       "Name: count, dtype: int64"
      ]
     },
     "execution_count": 180,
     "metadata": {},
     "output_type": "execute_result"
    }
   ],
   "source": [
    "rcb['batsman_run'].value_counts()"
   ]
  },
  {
   "cell_type": "code",
   "execution_count": 186,
   "id": "50c41395-9d98-4952-8f16-cd49cecd5c3c",
   "metadata": {},
   "outputs": [
    {
     "data": {
      "text/plain": [
       "kind\n",
       "caught    2\n",
       "bowled    1\n",
       "Name: count, dtype: int64"
      ]
     },
     "execution_count": 186,
     "metadata": {},
     "output_type": "execute_result"
    }
   ],
   "source": [
    "rcb['kind'].value_counts()"
   ]
  }
 ],
 "metadata": {
  "kernelspec": {
   "display_name": "Python 3 (ipykernel)",
   "language": "python",
   "name": "python3"
  },
  "language_info": {
   "codemirror_mode": {
    "name": "ipython",
    "version": 3
   },
   "file_extension": ".py",
   "mimetype": "text/x-python",
   "name": "python",
   "nbconvert_exporter": "python",
   "pygments_lexer": "ipython3",
   "version": "3.12.4"
  }
 },
 "nbformat": 4,
 "nbformat_minor": 5
}
